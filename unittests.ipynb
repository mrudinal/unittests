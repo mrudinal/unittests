{
  "nbformat": 4,
  "nbformat_minor": 0,
  "metadata": {
    "colab": {
      "provenance": [],
      "authorship_tag": "ABX9TyPHB4DGDOlocVJz2+xzdBOw",
      "include_colab_link": true
    },
    "kernelspec": {
      "name": "python3",
      "display_name": "Python 3"
    },
    "language_info": {
      "name": "python"
    }
  },
  "cells": [
    {
      "cell_type": "markdown",
      "metadata": {
        "id": "view-in-github",
        "colab_type": "text"
      },
      "source": [
        "<a href=\"https://colab.research.google.com/github/mrudinal/unittests/blob/main/unittests.ipynb\" target=\"_parent\"><img src=\"https://colab.research.google.com/assets/colab-badge.svg\" alt=\"Open In Colab\"/></a>"
      ]
    },
    {
      "cell_type": "code",
      "execution_count": 1,
      "metadata": {
        "colab": {
          "base_uri": "https://localhost:8080/"
        },
        "id": "WoNwifi-2hm7",
        "outputId": "e919bde7-56f9-4ea8-f5f2-d9ac6545bfa1"
      },
      "outputs": [
        {
          "output_type": "stream",
          "name": "stdout",
          "text": [
            "hello\n"
          ]
        }
      ],
      "source": [
        "print(\"hello\")"
      ]
    },
    {
      "cell_type": "markdown",
      "source": [],
      "metadata": {
        "id": "IFKp_qIb_uRr"
      }
    },
    {
      "cell_type": "code",
      "source": [
        "!pip install imageai"
      ],
      "metadata": {
        "colab": {
          "base_uri": "https://localhost:8080/"
        },
        "id": "XLZ4AbOD_ugy",
        "outputId": "6b060737-f55a-4290-ed53-4d80e70bda90"
      },
      "execution_count": 2,
      "outputs": [
        {
          "output_type": "stream",
          "name": "stdout",
          "text": [
            "Looking in indexes: https://pypi.org/simple, https://us-python.pkg.dev/colab-wheels/public/simple/\n",
            "Collecting imageai\n",
            "  Downloading imageai-3.0.3-py3-none-any.whl (69 kB)\n",
            "\u001b[2K     \u001b[90m━━━━━━━━━━━━━━━━━━━━━━━━━━━━━━━━━━━━━━━━\u001b[0m \u001b[32m69.8/69.8 KB\u001b[0m \u001b[31m4.7 MB/s\u001b[0m eta \u001b[36m0:00:00\u001b[0m\n",
            "\u001b[?25hInstalling collected packages: imageai\n",
            "Successfully installed imageai-3.0.3\n"
          ]
        }
      ]
    },
    {
      "cell_type": "code",
      "source": [
        "import imageai"
      ],
      "metadata": {
        "id": "cAAomspyAdHK"
      },
      "execution_count": 3,
      "outputs": []
    },
    {
      "cell_type": "markdown",
      "source": [
        "Print the Python version to the console. Use the built-in sys module"
      ],
      "metadata": {
        "id": "6QWR0e-x_uxB"
      }
    },
    {
      "cell_type": "code",
      "source": [
        "import sys\n",
        "version = sys.version\n",
        "print(f\"Python version: {version.split(' ')[0]}\")"
      ],
      "metadata": {
        "colab": {
          "base_uri": "https://localhost:8080/"
        },
        "id": "0Hq1xlBp_wpC",
        "outputId": "7daf34bd-e67d-4467-ccf0-67e7987f63fc"
      },
      "execution_count": 6,
      "outputs": [
        {
          "output_type": "stream",
          "name": "stdout",
          "text": [
            "Python version: 3.8.10\n"
          ]
        }
      ]
    },
    {
      "cell_type": "markdown",
      "source": [
        "Assert the is_italy variable using the assert statement:\n",
        "\n",
        "\n",
        "    countries = ['POL', 'ENG', 'GER', 'USA', 'ITA']\n",
        "    is_italy = 'ITA' in countries"
      ],
      "metadata": {
        "id": "Rb3ExzS2GDEE"
      }
    },
    {
      "cell_type": "code",
      "source": [
        "countries = ['POL', 'ENG', 'GER', 'USA', 'ITA']\n",
        "\n",
        "def test_country():\n",
        "    global countries\n",
        "    is_italy = 'ITA' in countries\n",
        "    assert is_italy == True\n",
        "\n",
        "# enter your solution here\n",
        "print(test_country())"
      ],
      "metadata": {
        "id": "FlWULmLgGDaV"
      },
      "execution_count": null,
      "outputs": []
    },
    {
      "cell_type": "markdown",
      "source": [
        "Assert the is_canada variable using the assert statement:\n",
        "\n",
        "\n",
        "    countries = ['POL', 'ENG', 'GER', 'USA', 'ITA']\n",
        "    is_canada = 'CAN' in countries"
      ],
      "metadata": {
        "id": "qyr1TymdGeWj"
      }
    },
    {
      "cell_type": "code",
      "source": [
        "def check_countries():\n",
        "    countries = ['POL', 'ENG', 'GER', 'USA', 'ITA']\n",
        "    is_canada = 'CAN' in countries\n",
        "    assert is_canada\n",
        "\n",
        "# enter your solution here\n",
        "print(check_countries())"
      ],
      "metadata": {
        "id": "Pt_Laj3yGfB6"
      },
      "execution_count": null,
      "outputs": []
    },
    {
      "cell_type": "markdown",
      "source": [
        "The implementation of the max_min_diff() function is given:\n",
        "\n",
        "\n",
        "    def max_min_diff(numbers):\n",
        "        return max(numbers) - min(numbers)\n",
        "\n",
        "\n",
        "Modify the implementation of the max_min_diff() function. By using the assert statement inside this function, add the ability to check the length of the numbers argument before returning the result. If the length of the numbers object is 0 raise the AssertionError without any message. Otherwise, return the correct result.\n",
        "\n",
        "In response call max_min_diff() function passing an empty list."
      ],
      "metadata": {
        "id": "6uB5hWt8TRIi"
      }
    },
    {
      "cell_type": "code",
      "source": [
        "def max_min_diff(numbers):\n",
        "    # enter your solution here\n",
        "    difference = len(numbers)\n",
        "    assert difference !=0\n",
        "    return difference\n",
        "    \n",
        "    \n",
        "# enter your solution here\n",
        "max_min_diff([])"
      ],
      "metadata": {
        "id": "68BDA9IzTPNm"
      },
      "execution_count": null,
      "outputs": []
    }
  ]
}